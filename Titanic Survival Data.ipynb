{
 "cells": [
  {
   "cell_type": "markdown",
   "id": "2f598762-2e11-499b-92ab-5390a7a330b6",
   "metadata": {},
   "source": [
    "# 타이타닉 생존 데이터 분석\r\n",
    "\r\n",
    "본 자료는석은 Kaggle Titanic 데이터를 기반으로 생존률을 다양한 관점에서 분석한 결과입니.\r\n"
   ]
  },
  {
   "cell_type": "markdown",
   "id": "dd820533-0902-40da-965c-bfa0d3b5566e",
   "metadata": {},
   "source": [
    "## Contents\n",
    "\n",
    "1. 데이터 로딩\n",
    "2. 데이터 구조 확인\n",
    "3. 전체 생존률 분석 및 시각화\n",
    "4. 성별 생존률 분석 및 시각화\n",
    "5. 나이대별 생존률 분석 및 시각화\n",
    "6. 결론"
   ]
  }
 ],
 "metadata": {
  "kernelspec": {
   "display_name": "Python 3 (ipykernel)",
   "language": "python",
   "name": "python3"
  },
  "language_info": {
   "codemirror_mode": {
    "name": "ipython",
    "version": 3
   },
   "file_extension": ".py",
   "mimetype": "text/x-python",
   "name": "python",
   "nbconvert_exporter": "python",
   "pygments_lexer": "ipython3",
   "version": "3.11.7"
  }
 },
 "nbformat": 4,
 "nbformat_minor": 5
}
